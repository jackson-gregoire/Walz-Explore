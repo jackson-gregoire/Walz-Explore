{
  "nbformat": 4,
  "nbformat_minor": 0,
  "metadata": {
    "colab": {
      "name": "explore_walz.ipynb",
      "provenance": [],
      "machine_shape": "hm"
    },
    "kernelspec": {
      "name": "python3",
      "display_name": "Python 3"
    },
    "accelerator": "GPU"
  },
  "cells": [
    {
      "cell_type": "code",
      "metadata": {
        "id": "kDHnmm9CRZ59"
      },
      "source": [
        "import numpy as np\r\n",
        "import pandas as pd\r\n",
        "import matplotlib.pyplot as plt\r\n",
        "import matplotlib.mlab as mlab\r\n",
        "import seaborn as sb\r\n",
        "import scipy as sp\r\n",
        "from scipy import stats\r\n",
        "import plotly.express as px\r\n",
        "from sklearn.model_selection import train_test_split, LeaveOneOut\r\n",
        "from sklearn import tree\r\n",
        "from sklearn.tree import DecisionTreeClassifier\r\n",
        "from sklearn import ensemble\r\n",
        "from sklearn.metrics import classification_report, confusion_matrix\r\n",
        "from sklearn.linear_model import LogisticRegression\r\n",
        "import statsmodels.formula.api as smf\r\n",
        "import statsmodels.api as sm"
      ],
      "execution_count": 152,
      "outputs": []
    },
    {
      "cell_type": "code",
      "metadata": {
        "colab": {
          "base_uri": "https://localhost:8080/",
          "height": 424
        },
        "id": "DSOH8z0XRygH",
        "outputId": "42277531-40bc-41fc-8824-64fa6a3c8611"
      },
      "source": [
        "df = pd.read_csv(\"/content/drive/MyDrive/Walz 2018 Data.csv\")\r\n",
        "y = df.walz_vote\r\n",
        "df\r\n",
        "df_cat = pd.get_dummies(df)\r\n",
        "df_cat\r\n",
        "df"
      ],
      "execution_count": 167,
      "outputs": [
        {
          "output_type": "execute_result",
          "data": {
            "text/html": [
              "<div>\n",
              "<style scoped>\n",
              "    .dataframe tbody tr th:only-of-type {\n",
              "        vertical-align: middle;\n",
              "    }\n",
              "\n",
              "    .dataframe tbody tr th {\n",
              "        vertical-align: top;\n",
              "    }\n",
              "\n",
              "    .dataframe thead th {\n",
              "        text-align: right;\n",
              "    }\n",
              "</style>\n",
              "<table border=\"1\" class=\"dataframe\">\n",
              "  <thead>\n",
              "    <tr style=\"text-align: right;\">\n",
              "      <th></th>\n",
              "      <th>walz_vote</th>\n",
              "      <th>voter_party</th>\n",
              "      <th>voter_age</th>\n",
              "      <th>voter_college</th>\n",
              "      <th>voter_female</th>\n",
              "      <th>voter_race</th>\n",
              "      <th>voter_hispanic</th>\n",
              "      <th>voter_urban</th>\n",
              "    </tr>\n",
              "  </thead>\n",
              "  <tbody>\n",
              "    <tr>\n",
              "      <th>0</th>\n",
              "      <td>0</td>\n",
              "      <td>Independent</td>\n",
              "      <td>70</td>\n",
              "      <td>1</td>\n",
              "      <td>0</td>\n",
              "      <td>Other</td>\n",
              "      <td>0</td>\n",
              "      <td>Rural</td>\n",
              "    </tr>\n",
              "    <tr>\n",
              "      <th>1</th>\n",
              "      <td>1</td>\n",
              "      <td>DFL</td>\n",
              "      <td>38</td>\n",
              "      <td>0</td>\n",
              "      <td>0</td>\n",
              "      <td>Other</td>\n",
              "      <td>0</td>\n",
              "      <td>Urban</td>\n",
              "    </tr>\n",
              "    <tr>\n",
              "      <th>2</th>\n",
              "      <td>1</td>\n",
              "      <td>Republican</td>\n",
              "      <td>75</td>\n",
              "      <td>0</td>\n",
              "      <td>0</td>\n",
              "      <td>White</td>\n",
              "      <td>0</td>\n",
              "      <td>Suburban</td>\n",
              "    </tr>\n",
              "    <tr>\n",
              "      <th>3</th>\n",
              "      <td>1</td>\n",
              "      <td>Independent</td>\n",
              "      <td>56</td>\n",
              "      <td>1</td>\n",
              "      <td>0</td>\n",
              "      <td>White</td>\n",
              "      <td>0</td>\n",
              "      <td>Suburban</td>\n",
              "    </tr>\n",
              "    <tr>\n",
              "      <th>4</th>\n",
              "      <td>1</td>\n",
              "      <td>Independent</td>\n",
              "      <td>57</td>\n",
              "      <td>0</td>\n",
              "      <td>0</td>\n",
              "      <td>White</td>\n",
              "      <td>0</td>\n",
              "      <td>Urban</td>\n",
              "    </tr>\n",
              "    <tr>\n",
              "      <th>...</th>\n",
              "      <td>...</td>\n",
              "      <td>...</td>\n",
              "      <td>...</td>\n",
              "      <td>...</td>\n",
              "      <td>...</td>\n",
              "      <td>...</td>\n",
              "      <td>...</td>\n",
              "      <td>...</td>\n",
              "    </tr>\n",
              "    <tr>\n",
              "      <th>395</th>\n",
              "      <td>0</td>\n",
              "      <td>Republican</td>\n",
              "      <td>36</td>\n",
              "      <td>1</td>\n",
              "      <td>0</td>\n",
              "      <td>White</td>\n",
              "      <td>0</td>\n",
              "      <td>Urban</td>\n",
              "    </tr>\n",
              "    <tr>\n",
              "      <th>396</th>\n",
              "      <td>1</td>\n",
              "      <td>DFL</td>\n",
              "      <td>20</td>\n",
              "      <td>0</td>\n",
              "      <td>1</td>\n",
              "      <td>White</td>\n",
              "      <td>0</td>\n",
              "      <td>Rural</td>\n",
              "    </tr>\n",
              "    <tr>\n",
              "      <th>397</th>\n",
              "      <td>1</td>\n",
              "      <td>Republican</td>\n",
              "      <td>36</td>\n",
              "      <td>0</td>\n",
              "      <td>0</td>\n",
              "      <td>White</td>\n",
              "      <td>0</td>\n",
              "      <td>Suburban</td>\n",
              "    </tr>\n",
              "    <tr>\n",
              "      <th>398</th>\n",
              "      <td>1</td>\n",
              "      <td>DFL</td>\n",
              "      <td>64</td>\n",
              "      <td>1</td>\n",
              "      <td>1</td>\n",
              "      <td>White</td>\n",
              "      <td>0</td>\n",
              "      <td>Suburban</td>\n",
              "    </tr>\n",
              "    <tr>\n",
              "      <th>399</th>\n",
              "      <td>0</td>\n",
              "      <td>DFL</td>\n",
              "      <td>67</td>\n",
              "      <td>0</td>\n",
              "      <td>0</td>\n",
              "      <td>White</td>\n",
              "      <td>1</td>\n",
              "      <td>Suburban</td>\n",
              "    </tr>\n",
              "  </tbody>\n",
              "</table>\n",
              "<p>400 rows × 8 columns</p>\n",
              "</div>"
            ],
            "text/plain": [
              "     walz_vote  voter_party  voter_age  ...  voter_race  voter_hispanic voter_urban\n",
              "0            0  Independent         70  ...       Other               0       Rural\n",
              "1            1          DFL         38  ...       Other               0       Urban\n",
              "2            1   Republican         75  ...       White               0    Suburban\n",
              "3            1  Independent         56  ...       White               0    Suburban\n",
              "4            1  Independent         57  ...       White               0       Urban\n",
              "..         ...          ...        ...  ...         ...             ...         ...\n",
              "395          0   Republican         36  ...       White               0       Urban\n",
              "396          1          DFL         20  ...       White               0       Rural\n",
              "397          1   Republican         36  ...       White               0    Suburban\n",
              "398          1          DFL         64  ...       White               0    Suburban\n",
              "399          0          DFL         67  ...       White               1    Suburban\n",
              "\n",
              "[400 rows x 8 columns]"
            ]
          },
          "metadata": {
            "tags": []
          },
          "execution_count": 167
        }
      ]
    },
    {
      "cell_type": "code",
      "metadata": {
        "id": "HdFZrGwbUW7_",
        "colab": {
          "base_uri": "https://localhost:8080/"
        },
        "outputId": "f723b88a-0c35-4050-b07c-b74d0a8608d0"
      },
      "source": [
        "mean = np.mean(df.voter_age)\r\n",
        "sd = np.std(df.voter_age)\r\n",
        "mean, sd, df.voter_age.value_counts()"
      ],
      "execution_count": 100,
      "outputs": [
        {
          "output_type": "execute_result",
          "data": {
            "text/plain": [
              "(54.53, 18.27290617280131, 51    12\n",
              " 68    12\n",
              " 70    11\n",
              " 77    11\n",
              " 76    10\n",
              "       ..\n",
              " 65     2\n",
              " 66     2\n",
              " 20     1\n",
              " 19     1\n",
              " 18     1\n",
              " Name: voter_age, Length: 68, dtype: int64)"
            ]
          },
          "metadata": {
            "tags": []
          },
          "execution_count": 100
        }
      ]
    },
    {
      "cell_type": "code",
      "metadata": {
        "id": "k9bEiBuSTt8J",
        "colab": {
          "base_uri": "https://localhost:8080/",
          "height": 426
        },
        "outputId": "6ee6af4a-5a6a-40a5-adff-a8c4f64ade0d"
      },
      "source": [
        "sb.distplot(df.voter_age, axlabel=\"Voter Age\")\r\n",
        "line1 = plt.axvline(51, 0 , 0.84, color = \"red\", ls = \"--\")\r\n",
        "line2 = plt.axvline(68, 0 , 0.87, color = \"red\", ls = \"--\")\r\n",
        "line3 = plt.axvline(54.53, 0 , 0.81, color = \"green\", ls = \"--\")\r\n",
        "plt.legend([line2, line3], [\"Mode(s): 51, 68\", \"Mean: 54.53\"])\r\n",
        "plt.title(\"Distrubtion of Voter Age\")\r\n",
        "\r\n",
        "# Need to rename the race axis, and the area/urban axis labels\r\n",
        "'''sb.histplot(df.voter_urban)\r\n",
        "sb.displot(df.voter_college)\r\n",
        "sb.displot(df.voter_female)\r\n",
        "sb.displot(df.voter_hispanic)\r\n",
        "sb.displot(df.voter_party)'''"
      ],
      "execution_count": 148,
      "outputs": [
        {
          "output_type": "stream",
          "text": [
            "/usr/local/lib/python3.7/dist-packages/seaborn/distributions.py:2557: FutureWarning:\n",
            "\n",
            "`distplot` is a deprecated function and will be removed in a future version. Please adapt your code to use either `displot` (a figure-level function with similar flexibility) or `histplot` (an axes-level function for histograms).\n",
            "\n"
          ],
          "name": "stderr"
        },
        {
          "output_type": "execute_result",
          "data": {
            "application/vnd.google.colaboratory.intrinsic+json": {
              "type": "string"
            },
            "text/plain": [
              "'sb.histplot(df.voter_urban)\\nsb.displot(df.voter_college)\\nsb.displot(df.voter_female)\\nsb.displot(df.voter_hispanic)\\nsb.displot(df.voter_party)'"
            ]
          },
          "metadata": {
            "tags": []
          },
          "execution_count": 148
        },
        {
          "output_type": "display_data",
          "data": {
            "image/png": "[encoded data removed]",
            "text/plain": [
              "<Figure size 432x288 with 1 Axes>"
            ]
          },
          "metadata": {
            "tags": [],
            "needs_background": "light"
          }
        }
      ]
    },
    {
      "cell_type": "code",
      "metadata": {
        "colab": {
          "base_uri": "https://localhost:8080/",
          "height": 403
        },
        "id": "d2uuE5f6aBZa",
        "outputId": "9a83bfeb-3c32-48cb-917e-6901cdc15b66"
      },
      "source": [
        "sb.displot(df.voter_race)\r\n",
        "plt.xlabel(\"Voter Race\")\r\n",
        "b1 = plt.bar(0, 30, 1, color = \"green\", edgecolor = \"black\")\r\n",
        "b2 = plt.bar(1, 174, 1, color = \"green\", edgecolor = \"black\")\r\n",
        "b3 = plt.bar(2, 15, 1, color = \"green\", edgecolor = \"black\")\r\n",
        "#plt.legend([b1, b2, b3], [\"Other: 30/52\", \"White: 174/323\", \"Black: 15/25\"])\r\n",
        "plt.title(\"Voter Race vs Proportion of Walz Vote\")"
      ],
      "execution_count": 190,
      "outputs": [
        {
          "output_type": "execute_result",
          "data": {
            "text/plain": [
              "Text(0.5, 1.0, 'Voter Race vs Proportion of Walz Vote')"
            ]
          },
          "metadata": {
            "tags": []
          },
          "execution_count": 190
        },
        {
          "output_type": "display_data",
          "data": {
            "image/png": "[encoded data removed]",
            "text/plain": [
              "<Figure size 360x360 with 1 Axes>"
            ]
          },
          "metadata": {
            "tags": [],
            "needs_background": "light"
          }
        }
      ]
    },
    {
      "cell_type": "code",
      "metadata": {
        "colab": {
          "base_uri": "https://localhost:8080/"
        },
        "id": "CUuR0b0Teyqv",
        "outputId": "433f6104-c2b9-4497-8fbf-a6169b1a0178"
      },
      "source": [
        "walz_other = []\r\n",
        "walz_black = []\r\n",
        "walz_white = []\r\n",
        "\r\n",
        "for i,j in zip(df.voter_race,df.walz_vote):\r\n",
        "  if i == \"Other\" and j == 1:\r\n",
        "    walz_other = np.append(walz_other, 1)\r\n",
        "\r\n",
        "  elif i == \"Other\" and j != 1:\r\n",
        "    walz_other = np.append(walz_other, 0)\r\n",
        "\r\n",
        "  if i == \"Black\" and j == 1:\r\n",
        "    walz_black = np.append(walz_black, 1)\r\n",
        "\r\n",
        "  elif i == \"Black\" and j != 1:\r\n",
        "    walz_black = np.append(walz_black, 0)\r\n",
        "\r\n",
        "  if i == \"White\" and j == 1:\r\n",
        "    walz_white = np.append(walz_white, 1)\r\n",
        "\r\n",
        "  elif i == \"White\" and j != 1:\r\n",
        "    walz_white = np.append(walz_white, 0)\r\n",
        "\r\n",
        "\r\n",
        "\r\n",
        "prop = np.array([np.sum(walz_other), np.sum(walz_white), np.sum(walz_black)])\r\n",
        "prop\r\n",
        "\r\n",
        "prop,df.voter_race.value_counts()\r\n"
      ],
      "execution_count": 189,
      "outputs": [
        {
          "output_type": "execute_result",
          "data": {
            "text/plain": [
              "(array([ 30., 174.,  15.]), White    323\n",
              " Other     52\n",
              " Black     25\n",
              " Name: voter_race, dtype: int64)"
            ]
          },
          "metadata": {
            "tags": []
          },
          "execution_count": 189
        }
      ]
    },
    {
      "cell_type": "code",
      "metadata": {
        "colab": {
          "base_uri": "https://localhost:8080/",
          "height": 400
        },
        "id": "1fMcCDvBgaWB",
        "outputId": "91837a93-8008-4baf-b2da-e47816a28c49"
      },
      "source": [
        "sb.displot(df.voter_urban)\r\n",
        "plt.xlabel(\"Voter Urban\")\r\n",
        "b1 = plt.bar(0, 42, 1, color = \"green\", edgecolor = \"black\")\r\n",
        "b2 = plt.bar(1, 97, 1, color = \"green\", edgecolor = \"black\")\r\n",
        "b3 = plt.bar(2, 80, 1, color = \"green\", edgecolor = \"black\")\r\n",
        "#plt.legend([b1, b2, b3], [\"Other: 30/52\", \"White: 174/323\", \"Black: 15/25\"])\r\n",
        "plt.title(\"Voter Area vs Proportion of Walz Vote\")"
      ],
      "execution_count": 185,
      "outputs": [
        {
          "output_type": "execute_result",
          "data": {
            "text/plain": [
              "Text(0.5, 1.0, 'Voter Area vs Proportion of Walz Vote')"
            ]
          },
          "metadata": {
            "tags": []
          },
          "execution_count": 185
        },
        {
          "output_type": "display_data",
          "data": {
            "image/png": "[encoded data removed]",
            "text/plain": [
              "<Figure size 360x360 with 1 Axes>"
            ]
          },
          "metadata": {
            "tags": [],
            "needs_background": "light"
          }
        }
      ]
    },
    {
      "cell_type": "code",
      "metadata": {
        "colab": {
          "base_uri": "https://localhost:8080/"
        },
        "id": "uFHEOf_2gs7A",
        "outputId": "d4da6504-8e69-4bb2-dd4f-0804ee8e7b74"
      },
      "source": [
        "walz_rural = []\r\n",
        "walz_urban = []\r\n",
        "walz_sub = []\r\n",
        "\r\n",
        "for i,j in zip(df.voter_urban,df.walz_vote):\r\n",
        "  if i == \"Rural\" and j == 1:\r\n",
        "    walz_rural = np.append(walz_rural, 1)\r\n",
        "\r\n",
        "  elif i == \"Rural\" and j != 1:\r\n",
        "    walz_rural = np.append(walz_rural, 0)\r\n",
        "\r\n",
        "  if i == \"Urban\" and j == 1:\r\n",
        "    walz_urban = np.append(walz_urban, 1)\r\n",
        "\r\n",
        "  elif i == \"Urban\" and j != 1:\r\n",
        "    walz_urban = np.append(walz_urban, 0)\r\n",
        "\r\n",
        "  if i == \"Suburban\" and j == 1:\r\n",
        "    walz_sub = np.append(walz_sub, 1)\r\n",
        "\r\n",
        "  elif i == \"Suburban\" and j != 1:\r\n",
        "    walz_sub = np.append(walz_sub, 0)\r\n",
        "\r\n",
        "\r\n",
        "prop = np.array([np.sum(walz_rural), np.sum(walz_urban), np.sum(walz_sub)])\r\n",
        "prop\r\n",
        "\r\n",
        "prop,df.voter_urban.value_counts()"
      ],
      "execution_count": 181,
      "outputs": [
        {
          "output_type": "execute_result",
          "data": {
            "text/plain": [
              "(array([42., 97., 80.]), Urban       153\n",
              " Suburban    144\n",
              " Rural       103\n",
              " Name: voter_urban, dtype: int64)"
            ]
          },
          "metadata": {
            "tags": []
          },
          "execution_count": 181
        }
      ]
    },
    {
      "cell_type": "markdown",
      "metadata": {
        "id": "xeFPuP3An62C"
      },
      "source": [
        "Brainstorming for analysis approaches:\r\n",
        "1) Logistic Regression\r\n"
      ]
    },
    {
      "cell_type": "code",
      "metadata": {
        "colab": {
          "base_uri": "https://localhost:8080/",
          "height": 542
        },
        "id": "p7qYq4skpBjL",
        "outputId": "610884e5-2738-41b6-c389-67d18c7562a4"
      },
      "source": [
        "# Naive check for seperability\r\n",
        "fig = px.scatter(x = df.voter_age, y=np.ones(df.voter_age.shape[0]), color=df.walz_vote)\r\n",
        "fig.show()"
      ],
      "execution_count": null,
      "outputs": [
        {
          "output_type": "display_data",
          "data": {
            "text/html": [
              "<html>\n",
              "<head><meta charset=\"utf-8\" /></head>\n",
              "<body>\n",
              "    <div>\n",
              "            <script src=\"https://cdnjs.cloudflare.com/ajax/libs/mathjax/2.7.5/MathJax.js?config=TeX-AMS-MML_SVG\"></script><script type=\"text/javascript\">if (window.MathJax) {MathJax.Hub.Config({SVG: {font: \"STIX-Web\"}});}</script>\n",
              "                <script type=\"text/javascript\">window.PlotlyConfig = {MathJaxConfig: 'local'};</script>\n",
              "        <script src=\"https://cdn.plot.ly/plotly-latest.min.js\"></script>    \n",
              "            <div id=\"a078dfaf-dd24-44d9-8c9e-d7f2e22e36e8\" class=\"plotly-graph-div\" style=\"height:525px; width:100%;\"></div>\n",
              "            <script type=\"text/javascript\">\n",
              "                \n",
              "                    window.PLOTLYENV=window.PLOTLYENV || {};\n",
              "                    \n",
              "                if (document.getElementById(\"a078dfaf-dd24-44d9-8c9e-d7f2e22e36e8\")) {\n",
              "                    Plotly.newPlot(\n",
              "                        'a078dfaf-dd24-44d9-8c9e-d7f2e22e36e8',\n",
              "                        [{\"hoverlabel\": {\"namelength\": 0}, \"hovertemplate\": \"x=%{x}<br>y=%{y}<br>color=%{marker.color}\", \"legendgroup\": \"\", \"marker\": {\"color\": [0, 1, 1, 1, 1, 1, 0, 0, 0, 1, 1, 1, 1, 0, 1, 0, 0, 1, 1, 0, 0, 0, 1, 1, 0, 1, 1, 1, 1, 1, 1, 0, 1, 0, 0, 1, 1, 0, 1, 0, 1, 1, 0, 1, 1, 0, 1, 0, 0, 0, 0, 0, 0, 1, 1, 0, 0, 0, 0, 1, 0, 0, 1, 1, 0, 0, 0, 0, 1, 1, 0, 0, 0, 1, 1, 1, 1, 1, 1, 0, 0, 0, 0, 0, 1, 1, 0, 1, 0, 1, 1, 0, 1, 0, 1, 1, 0, 1, 1, 0, 1, 1, 1, 1, 0, 1, 0, 1, 1, 1, 0, 1, 1, 1, 0, 1, 1, 0, 1, 1, 1, 0, 0, 0, 1, 1, 0, 1, 0, 1, 1, 0, 0, 1, 1, 1, 1, 1, 1, 0, 1, 1, 0, 1, 0, 1, 1, 0, 0, 0, 0, 0, 0, 1, 1, 1, 1, 0, 1, 0, 1, 1, 1, 1, 0, 0, 0, 0, 1, 0, 0, 0, 1, 0, 1, 0, 1, 1, 0, 0, 1, 1, 0, 1, 0, 0, 0, 0, 1, 1, 0, 0, 0, 1, 0, 0, 1, 0, 0, 1, 1, 0, 1, 1, 1, 0, 0, 0, 1, 1, 0, 0, 0, 1, 0, 0, 1, 1, 1, 0, 1, 1, 0, 1, 1, 0, 0, 1, 0, 0, 0, 1, 1, 1, 0, 1, 1, 1, 1, 1, 0, 0, 0, 1, 0, 1, 1, 1, 1, 0, 1, 1, 0, 0, 1, 1, 1, 1, 1, 0, 1, 0, 1, 0, 0, 1, 1, 1, 0, 1, 1, 1, 0, 0, 0, 1, 1, 0, 1, 0, 1, 1, 1, 0, 0, 1, 1, 0, 1, 1, 0, 1, 0, 1, 0, 0, 1, 1, 0, 1, 1, 0, 1, 1, 0, 0, 0, 1, 0, 0, 0, 0, 1, 0, 1, 1, 1, 1, 1, 1, 1, 0, 1, 0, 1, 1, 1, 1, 1, 1, 1, 0, 0, 1, 0, 0, 1, 0, 1, 0, 1, 0, 1, 0, 1, 1, 1, 0, 0, 0, 1, 1, 1, 1, 0, 0, 1, 1, 0, 0, 0, 1, 1, 1, 1, 0, 1, 1, 0, 0, 1, 1, 0, 1, 0, 0, 1, 0, 0, 1, 1, 0, 0, 1, 0, 1, 0, 1, 1, 0, 1, 1, 0, 0, 0, 0, 1, 1, 1, 0], \"coloraxis\": \"coloraxis\", \"symbol\": \"circle\"}, \"mode\": \"markers\", \"name\": \"\", \"showlegend\": false, \"type\": \"scatter\", \"x\": [70, 38, 75, 56, 57, 33, 64, 72, 83, 28, 51, 82, 22, 30, 31, 70, 72, 61, 21, 84, 44, 60, 74, 73, 43, 68, 72, 44, 31, 69, 62, 68, 46, 77, 82, 55, 30, 51, 74, 77, 52, 24, 54, 51, 81, 81, 83, 19, 40, 49, 61, 54, 43, 28, 51, 61, 33, 57, 56, 24, 69, 59, 39, 85, 54, 41, 30, 75, 51, 44, 43, 49, 36, 27, 76, 78, 81, 23, 36, 32, 79, 70, 33, 26, 30, 24, 75, 83, 69, 48, 64, 62, 79, 71, 37, 72, 81, 63, 43, 80, 79, 29, 28, 59, 47, 67, 74, 43, 35, 29, 81, 42, 62, 74, 80, 45, 51, 37, 26, 46, 55, 44, 39, 71, 48, 68, 38, 82, 70, 60, 68, 23, 33, 79, 22, 49, 52, 54, 21, 76, 64, 80, 62, 81, 30, 59, 50, 69, 28, 48, 66, 70, 82, 41, 83, 64, 24, 62, 76, 65, 70, 74, 35, 71, 18, 51, 60, 70, 76, 23, 51, 60, 32, 44, 57, 34, 59, 68, 71, 78, 83, 52, 51, 70, 37, 70, 84, 52, 57, 39, 45, 73, 35, 45, 67, 79, 58, 22, 46, 76, 51, 77, 76, 45, 61, 54, 36, 70, 37, 72, 52, 79, 49, 42, 43, 54, 34, 34, 77, 21, 81, 72, 46, 66, 67, 40, 43, 34, 40, 58, 82, 31, 60, 67, 42, 64, 71, 32, 45, 70, 37, 54, 67, 57, 58, 50, 49, 48, 22, 47, 54, 45, 38, 53, 57, 25, 39, 36, 48, 32, 82, 44, 25, 73, 39, 68, 23, 69, 75, 25, 58, 28, 23, 22, 63, 31, 60, 64, 39, 76, 52, 61, 44, 50, 73, 55, 71, 77, 67, 36, 50, 77, 51, 34, 77, 58, 34, 67, 68, 62, 50, 36, 31, 24, 42, 36, 73, 62, 49, 29, 84, 28, 68, 45, 35, 55, 31, 84, 77, 42, 77, 68, 50, 44, 75, 77, 68, 57, 51, 73, 32, 82, 45, 65, 30, 52, 80, 84, 68, 84, 38, 72, 77, 68, 85, 49, 26, 53, 52, 29, 48, 82, 81, 72, 33, 78, 49, 69, 57, 76, 39, 52, 30, 75, 39, 27, 81, 75, 58, 53, 82, 49, 53, 58, 30, 28, 79, 63, 63, 44, 44, 76, 30, 40, 30, 40, 50, 74, 47, 38, 69, 76, 33, 61, 72, 36, 20, 36, 64, 67], \"xaxis\": \"x\", \"y\": [1.0, 1.0, 1.0, 1.0, 1.0, 1.0, 1.0, 1.0, 1.0, 1.0, 1.0, 1.0, 1.0, 1.0, 1.0, 1.0, 1.0, 1.0, 1.0, 1.0, 1.0, 1.0, 1.0, 1.0, 1.0, 1.0, 1.0, 1.0, 1.0, 1.0, 1.0, 1.0, 1.0, 1.0, 1.0, 1.0, 1.0, 1.0, 1.0, 1.0, 1.0, 1.0, 1.0, 1.0, 1.0, 1.0, 1.0, 1.0, 1.0, 1.0, 1.0, 1.0, 1.0, 1.0, 1.0, 1.0, 1.0, 1.0, 1.0, 1.0, 1.0, 1.0, 1.0, 1.0, 1.0, 1.0, 1.0, 1.0, 1.0, 1.0, 1.0, 1.0, 1.0, 1.0, 1.0, 1.0, 1.0, 1.0, 1.0, 1.0, 1.0, 1.0, 1.0, 1.0, 1.0, 1.0, 1.0, 1.0, 1.0, 1.0, 1.0, 1.0, 1.0, 1.0, 1.0, 1.0, 1.0, 1.0, 1.0, 1.0, 1.0, 1.0, 1.0, 1.0, 1.0, 1.0, 1.0, 1.0, 1.0, 1.0, 1.0, 1.0, 1.0, 1.0, 1.0, 1.0, 1.0, 1.0, 1.0, 1.0, 1.0, 1.0, 1.0, 1.0, 1.0, 1.0, 1.0, 1.0, 1.0, 1.0, 1.0, 1.0, 1.0, 1.0, 1.0, 1.0, 1.0, 1.0, 1.0, 1.0, 1.0, 1.0, 1.0, 1.0, 1.0, 1.0, 1.0, 1.0, 1.0, 1.0, 1.0, 1.0, 1.0, 1.0, 1.0, 1.0, 1.0, 1.0, 1.0, 1.0, 1.0, 1.0, 1.0, 1.0, 1.0, 1.0, 1.0, 1.0, 1.0, 1.0, 1.0, 1.0, 1.0, 1.0, 1.0, 1.0, 1.0, 1.0, 1.0, 1.0, 1.0, 1.0, 1.0, 1.0, 1.0, 1.0, 1.0, 1.0, 1.0, 1.0, 1.0, 1.0, 1.0, 1.0, 1.0, 1.0, 1.0, 1.0, 1.0, 1.0, 1.0, 1.0, 1.0, 1.0, 1.0, 1.0, 1.0, 1.0, 1.0, 1.0, 1.0, 1.0, 1.0, 1.0, 1.0, 1.0, 1.0, 1.0, 1.0, 1.0, 1.0, 1.0, 1.0, 1.0, 1.0, 1.0, 1.0, 1.0, 1.0, 1.0, 1.0, 1.0, 1.0, 1.0, 1.0, 1.0, 1.0, 1.0, 1.0, 1.0, 1.0, 1.0, 1.0, 1.0, 1.0, 1.0, 1.0, 1.0, 1.0, 1.0, 1.0, 1.0, 1.0, 1.0, 1.0, 1.0, 1.0, 1.0, 1.0, 1.0, 1.0, 1.0, 1.0, 1.0, 1.0, 1.0, 1.0, 1.0, 1.0, 1.0, 1.0, 1.0, 1.0, 1.0, 1.0, 1.0, 1.0, 1.0, 1.0, 1.0, 1.0, 1.0, 1.0, 1.0, 1.0, 1.0, 1.0, 1.0, 1.0, 1.0, 1.0, 1.0, 1.0, 1.0, 1.0, 1.0, 1.0, 1.0, 1.0, 1.0, 1.0, 1.0, 1.0, 1.0, 1.0, 1.0, 1.0, 1.0, 1.0, 1.0, 1.0, 1.0, 1.0, 1.0, 1.0, 1.0, 1.0, 1.0, 1.0, 1.0, 1.0, 1.0, 1.0, 1.0, 1.0, 1.0, 1.0, 1.0, 1.0, 1.0, 1.0, 1.0, 1.0, 1.0, 1.0, 1.0, 1.0, 1.0, 1.0, 1.0, 1.0, 1.0, 1.0, 1.0, 1.0, 1.0, 1.0, 1.0, 1.0, 1.0, 1.0, 1.0, 1.0, 1.0, 1.0, 1.0, 1.0, 1.0, 1.0, 1.0, 1.0, 1.0, 1.0, 1.0, 1.0, 1.0, 1.0, 1.0, 1.0, 1.0, 1.0, 1.0, 1.0, 1.0, 1.0, 1.0, 1.0, 1.0, 1.0, 1.0, 1.0, 1.0, 1.0, 1.0, 1.0, 1.0, 1.0, 1.0, 1.0, 1.0, 1.0, 1.0, 1.0, 1.0, 1.0, 1.0, 1.0, 1.0, 1.0, 1.0], \"yaxis\": \"y\"}],\n",
              "                        {\"coloraxis\": {\"colorbar\": {\"title\": {\"text\": \"color\"}}, \"colorscale\": [[0.0, \"#0d0887\"], [0.1111111111111111, \"#46039f\"], [0.2222222222222222, \"#7201a8\"], [0.3333333333333333, \"#9c179e\"], [0.4444444444444444, \"#bd3786\"], [0.5555555555555556, \"#d8576b\"], [0.6666666666666666, \"#ed7953\"], [0.7777777777777778, \"#fb9f3a\"], [0.8888888888888888, \"#fdca26\"], [1.0, \"#f0f921\"]]}, \"legend\": {\"tracegroupgap\": 0}, \"margin\": {\"t\": 60}, \"template\": {\"data\": {\"bar\": [{\"error_x\": {\"color\": \"#2a3f5f\"}, \"error_y\": {\"color\": \"#2a3f5f\"}, \"marker\": {\"line\": {\"color\": \"#E5ECF6\", \"width\": 0.5}}, \"type\": \"bar\"}], \"barpolar\": [{\"marker\": {\"line\": {\"color\": \"#E5ECF6\", \"width\": 0.5}}, \"type\": \"barpolar\"}], \"carpet\": [{\"aaxis\": {\"endlinecolor\": \"#2a3f5f\", \"gridcolor\": \"white\", \"linecolor\": \"white\", \"minorgridcolor\": \"white\", \"startlinecolor\": \"#2a3f5f\"}, \"baxis\": {\"endlinecolor\": \"#2a3f5f\", \"gridcolor\": \"white\", \"linecolor\": \"white\", \"minorgridcolor\": \"white\", \"startlinecolor\": \"#2a3f5f\"}, \"type\": \"carpet\"}], \"choropleth\": [{\"colorbar\": {\"outlinewidth\": 0, \"ticks\": \"\"}, \"type\": \"choropleth\"}], \"contour\": [{\"colorbar\": {\"outlinewidth\": 0, \"ticks\": \"\"}, \"colorscale\": [[0.0, \"#0d0887\"], [0.1111111111111111, \"#46039f\"], [0.2222222222222222, \"#7201a8\"], [0.3333333333333333, \"#9c179e\"], [0.4444444444444444, \"#bd3786\"], [0.5555555555555556, \"#d8576b\"], [0.6666666666666666, \"#ed7953\"], [0.7777777777777778, \"#fb9f3a\"], [0.8888888888888888, \"#fdca26\"], [1.0, \"#f0f921\"]], \"type\": \"contour\"}], \"contourcarpet\": [{\"colorbar\": {\"outlinewidth\": 0, \"ticks\": \"\"}, \"type\": \"contourcarpet\"}], \"heatmap\": [{\"colorbar\": {\"outlinewidth\": 0, \"ticks\": \"\"}, \"colorscale\": [[0.0, \"#0d0887\"], [0.1111111111111111, \"#46039f\"], [0.2222222222222222, \"#7201a8\"], [0.3333333333333333, \"#9c179e\"], [0.4444444444444444, \"#bd3786\"], [0.5555555555555556, \"#d8576b\"], [0.6666666666666666, \"#ed7953\"], [0.7777777777777778, \"#fb9f3a\"], [0.8888888888888888, \"#fdca26\"], [1.0, \"#f0f921\"]], \"type\": \"heatmap\"}], \"heatmapgl\": [{\"colorbar\": {\"outlinewidth\": 0, \"ticks\": \"\"}, \"colorscale\": [[0.0, \"#0d0887\"], [0.1111111111111111, \"#46039f\"], [0.2222222222222222, \"#7201a8\"], [0.3333333333333333, \"#9c179e\"], [0.4444444444444444, \"#bd3786\"], [0.5555555555555556, \"#d8576b\"], [0.6666666666666666, \"#ed7953\"], [0.7777777777777778, \"#fb9f3a\"], [0.8888888888888888, \"#fdca26\"], [1.0, \"#f0f921\"]], \"type\": \"heatmapgl\"}], \"histogram\": [{\"marker\": {\"colorbar\": {\"outlinewidth\": 0, \"ticks\": \"\"}}, \"type\": \"histogram\"}], \"histogram2d\": [{\"colorbar\": {\"outlinewidth\": 0, \"ticks\": \"\"}, \"colorscale\": [[0.0, \"#0d0887\"], [0.1111111111111111, \"#46039f\"], [0.2222222222222222, \"#7201a8\"], [0.3333333333333333, \"#9c179e\"], [0.4444444444444444, \"#bd3786\"], [0.5555555555555556, \"#d8576b\"], [0.6666666666666666, \"#ed7953\"], [0.7777777777777778, \"#fb9f3a\"], [0.8888888888888888, \"#fdca26\"], [1.0, \"#f0f921\"]], \"type\": \"histogram2d\"}], \"histogram2dcontour\": [{\"colorbar\": {\"outlinewidth\": 0, \"ticks\": \"\"}, \"colorscale\": [[0.0, \"#0d0887\"], [0.1111111111111111, \"#46039f\"], [0.2222222222222222, \"#7201a8\"], [0.3333333333333333, \"#9c179e\"], [0.4444444444444444, \"#bd3786\"], [0.5555555555555556, \"#d8576b\"], [0.6666666666666666, \"#ed7953\"], [0.7777777777777778, \"#fb9f3a\"], [0.8888888888888888, \"#fdca26\"], [1.0, \"#f0f921\"]], \"type\": \"histogram2dcontour\"}], \"mesh3d\": [{\"colorbar\": {\"outlinewidth\": 0, \"ticks\": \"\"}, \"type\": \"mesh3d\"}], \"parcoords\": [{\"line\": {\"colorbar\": {\"outlinewidth\": 0, \"ticks\": \"\"}}, \"type\": \"parcoords\"}], \"pie\": [{\"automargin\": true, \"type\": \"pie\"}], \"scatter\": [{\"marker\": {\"colorbar\": {\"outlinewidth\": 0, \"ticks\": \"\"}}, \"type\": \"scatter\"}], \"scatter3d\": [{\"line\": {\"colorbar\": {\"outlinewidth\": 0, \"ticks\": \"\"}}, \"marker\": {\"colorbar\": {\"outlinewidth\": 0, \"ticks\": \"\"}}, \"type\": \"scatter3d\"}], \"scattercarpet\": [{\"marker\": {\"colorbar\": {\"outlinewidth\": 0, \"ticks\": \"\"}}, \"type\": \"scattercarpet\"}], \"scattergeo\": [{\"marker\": {\"colorbar\": {\"outlinewidth\": 0, \"ticks\": \"\"}}, \"type\": \"scattergeo\"}], \"scattergl\": [{\"marker\": {\"colorbar\": {\"outlinewidth\": 0, \"ticks\": \"\"}}, \"type\": \"scattergl\"}], \"scattermapbox\": [{\"marker\": {\"colorbar\": {\"outlinewidth\": 0, \"ticks\": \"\"}}, \"type\": \"scattermapbox\"}], \"scatterpolar\": [{\"marker\": {\"colorbar\": {\"outlinewidth\": 0, \"ticks\": \"\"}}, \"type\": \"scatterpolar\"}], \"scatterpolargl\": [{\"marker\": {\"colorbar\": {\"outlinewidth\": 0, \"ticks\": \"\"}}, \"type\": \"scatterpolargl\"}], \"scatterternary\": [{\"marker\": {\"colorbar\": {\"outlinewidth\": 0, \"ticks\": \"\"}}, \"type\": \"scatterternary\"}], \"surface\": [{\"colorbar\": {\"outlinewidth\": 0, \"ticks\": \"\"}, \"colorscale\": [[0.0, \"#0d0887\"], [0.1111111111111111, \"#46039f\"], [0.2222222222222222, \"#7201a8\"], [0.3333333333333333, \"#9c179e\"], [0.4444444444444444, \"#bd3786\"], [0.5555555555555556, \"#d8576b\"], [0.6666666666666666, \"#ed7953\"], [0.7777777777777778, \"#fb9f3a\"], [0.8888888888888888, \"#fdca26\"], [1.0, \"#f0f921\"]], \"type\": \"surface\"}], \"table\": [{\"cells\": {\"fill\": {\"color\": \"#EBF0F8\"}, \"line\": {\"color\": \"white\"}}, \"header\": {\"fill\": {\"color\": \"#C8D4E3\"}, \"line\": {\"color\": \"white\"}}, \"type\": \"table\"}]}, \"layout\": {\"annotationdefaults\": {\"arrowcolor\": \"#2a3f5f\", \"arrowhead\": 0, \"arrowwidth\": 1}, \"coloraxis\": {\"colorbar\": {\"outlinewidth\": 0, \"ticks\": \"\"}}, \"colorscale\": {\"diverging\": [[0, \"#8e0152\"], [0.1, \"#c51b7d\"], [0.2, \"#de77ae\"], [0.3, \"#f1b6da\"], [0.4, \"#fde0ef\"], [0.5, \"#f7f7f7\"], [0.6, \"#e6f5d0\"], [0.7, \"#b8e186\"], [0.8, \"#7fbc41\"], [0.9, \"#4d9221\"], [1, \"#276419\"]], \"sequential\": [[0.0, \"#0d0887\"], [0.1111111111111111, \"#46039f\"], [0.2222222222222222, \"#7201a8\"], [0.3333333333333333, \"#9c179e\"], [0.4444444444444444, \"#bd3786\"], [0.5555555555555556, \"#d8576b\"], [0.6666666666666666, \"#ed7953\"], [0.7777777777777778, \"#fb9f3a\"], [0.8888888888888888, \"#fdca26\"], [1.0, \"#f0f921\"]], \"sequentialminus\": [[0.0, \"#0d0887\"], [0.1111111111111111, \"#46039f\"], [0.2222222222222222, \"#7201a8\"], [0.3333333333333333, \"#9c179e\"], [0.4444444444444444, \"#bd3786\"], [0.5555555555555556, \"#d8576b\"], [0.6666666666666666, \"#ed7953\"], [0.7777777777777778, \"#fb9f3a\"], [0.8888888888888888, \"#fdca26\"], [1.0, \"#f0f921\"]]}, \"colorway\": [\"#636efa\", \"#EF553B\", \"#00cc96\", \"#ab63fa\", \"#FFA15A\", \"#19d3f3\", \"#FF6692\", \"#B6E880\", \"#FF97FF\", \"#FECB52\"], \"font\": {\"color\": \"#2a3f5f\"}, \"geo\": {\"bgcolor\": \"white\", \"lakecolor\": \"white\", \"landcolor\": \"#E5ECF6\", \"showlakes\": true, \"showland\": true, \"subunitcolor\": \"white\"}, \"hoverlabel\": {\"align\": \"left\"}, \"hovermode\": \"closest\", \"mapbox\": {\"style\": \"light\"}, \"paper_bgcolor\": \"white\", \"plot_bgcolor\": \"#E5ECF6\", \"polar\": {\"angularaxis\": {\"gridcolor\": \"white\", \"linecolor\": \"white\", \"ticks\": \"\"}, \"bgcolor\": \"#E5ECF6\", \"radialaxis\": {\"gridcolor\": \"white\", \"linecolor\": \"white\", \"ticks\": \"\"}}, \"scene\": {\"xaxis\": {\"backgroundcolor\": \"#E5ECF6\", \"gridcolor\": \"white\", \"gridwidth\": 2, \"linecolor\": \"white\", \"showbackground\": true, \"ticks\": \"\", \"zerolinecolor\": \"white\"}, \"yaxis\": {\"backgroundcolor\": \"#E5ECF6\", \"gridcolor\": \"white\", \"gridwidth\": 2, \"linecolor\": \"white\", \"showbackground\": true, \"ticks\": \"\", \"zerolinecolor\": \"white\"}, \"zaxis\": {\"backgroundcolor\": \"#E5ECF6\", \"gridcolor\": \"white\", \"gridwidth\": 2, \"linecolor\": \"white\", \"showbackground\": true, \"ticks\": \"\", \"zerolinecolor\": \"white\"}}, \"shapedefaults\": {\"line\": {\"color\": \"#2a3f5f\"}}, \"ternary\": {\"aaxis\": {\"gridcolor\": \"white\", \"linecolor\": \"white\", \"ticks\": \"\"}, \"baxis\": {\"gridcolor\": \"white\", \"linecolor\": \"white\", \"ticks\": \"\"}, \"bgcolor\": \"#E5ECF6\", \"caxis\": {\"gridcolor\": \"white\", \"linecolor\": \"white\", \"ticks\": \"\"}}, \"title\": {\"x\": 0.05}, \"xaxis\": {\"automargin\": true, \"gridcolor\": \"white\", \"linecolor\": \"white\", \"ticks\": \"\", \"title\": {\"standoff\": 15}, \"zerolinecolor\": \"white\", \"zerolinewidth\": 2}, \"yaxis\": {\"automargin\": true, \"gridcolor\": \"white\", \"linecolor\": \"white\", \"ticks\": \"\", \"title\": {\"standoff\": 15}, \"zerolinecolor\": \"white\", \"zerolinewidth\": 2}}}, \"xaxis\": {\"anchor\": \"y\", \"domain\": [0.0, 1.0], \"title\": {\"text\": \"x\"}}, \"yaxis\": {\"anchor\": \"x\", \"domain\": [0.0, 1.0], \"title\": {\"text\": \"y\"}}},\n",
              "                        {\"responsive\": true}\n",
              "                    ).then(function(){\n",
              "                            \n",
              "var gd = document.getElementById('a078dfaf-dd24-44d9-8c9e-d7f2e22e36e8');\n",
              "var x = new MutationObserver(function (mutations, observer) {{\n",
              "        var display = window.getComputedStyle(gd).display;\n",
              "        if (!display || display === 'none') {{\n",
              "            console.log([gd, 'removed!']);\n",
              "            Plotly.purge(gd);\n",
              "            observer.disconnect();\n",
              "        }}\n",
              "}});\n",
              "\n",
              "// Listen for the removal of the full notebook cells\n",
              "var notebookContainer = gd.closest('#notebook-container');\n",
              "if (notebookContainer) {{\n",
              "    x.observe(notebookContainer, {childList: true});\n",
              "}}\n",
              "\n",
              "// Listen for the clearing of the current output cell\n",
              "var outputEl = gd.closest('.output');\n",
              "if (outputEl) {{\n",
              "    x.observe(outputEl, {childList: true});\n",
              "}}\n",
              "\n",
              "                        })\n",
              "                };\n",
              "                \n",
              "            </script>\n",
              "        </div>\n",
              "</body>\n",
              "</html>"
            ]
          },
          "metadata": {
            "tags": []
          }
        }
      ]
    },
    {
      "cell_type": "markdown",
      "metadata": {
        "id": "6BUwZkik2Rs6"
      },
      "source": [
        "**Data (Nominal Preprocessing of Categoricals):**"
      ]
    },
    {
      "cell_type": "code",
      "metadata": {
        "colab": {
          "base_uri": "https://localhost:8080/",
          "height": 444
        },
        "id": "-49pasx7qnrB",
        "outputId": "3a5032a4-7602-48d9-8ee0-c9379e23dc87"
      },
      "source": [
        "trimmed_df = pd.DataFrame(data = [df.voter_age, df.voter_college, df.voter_female, df.voter_hispanic, df_cat.voter_party_DFL, df_cat.voter_party_Independent, df_cat.voter_party_Republican, df_cat.voter_race_Black, df_cat.voter_race_White, df_cat.voter_urban_Rural, df_cat.voter_urban_Suburban, df_cat.voter_urban_Urban]).T\r\n",
        "X_train, X_test, y_train, y_test = train_test_split(trimmed_df, df.walz_vote, test_size=0.20, random_state = 4983)\r\n",
        "X_train"
      ],
      "execution_count": 153,
      "outputs": [
        {
          "output_type": "execute_result",
          "data": {
            "text/html": [
              "<div>\n",
              "<style scoped>\n",
              "    .dataframe tbody tr th:only-of-type {\n",
              "        vertical-align: middle;\n",
              "    }\n",
              "\n",
              "    .dataframe tbody tr th {\n",
              "        vertical-align: top;\n",
              "    }\n",
              "\n",
              "    .dataframe thead th {\n",
              "        text-align: right;\n",
              "    }\n",
              "</style>\n",
              "<table border=\"1\" class=\"dataframe\">\n",
              "  <thead>\n",
              "    <tr style=\"text-align: right;\">\n",
              "      <th></th>\n",
              "      <th>voter_age</th>\n",
              "      <th>voter_college</th>\n",
              "      <th>voter_female</th>\n",
              "      <th>voter_hispanic</th>\n",
              "      <th>voter_party_DFL</th>\n",
              "      <th>voter_party_Independent</th>\n",
              "      <th>voter_party_Republican</th>\n",
              "      <th>voter_race_Black</th>\n",
              "      <th>voter_race_White</th>\n",
              "      <th>voter_urban_Rural</th>\n",
              "      <th>voter_urban_Suburban</th>\n",
              "      <th>voter_urban_Urban</th>\n",
              "    </tr>\n",
              "  </thead>\n",
              "  <tbody>\n",
              "    <tr>\n",
              "      <th>83</th>\n",
              "      <td>26</td>\n",
              "      <td>0</td>\n",
              "      <td>0</td>\n",
              "      <td>0</td>\n",
              "      <td>1</td>\n",
              "      <td>0</td>\n",
              "      <td>0</td>\n",
              "      <td>0</td>\n",
              "      <td>1</td>\n",
              "      <td>1</td>\n",
              "      <td>0</td>\n",
              "      <td>0</td>\n",
              "    </tr>\n",
              "    <tr>\n",
              "      <th>397</th>\n",
              "      <td>36</td>\n",
              "      <td>0</td>\n",
              "      <td>0</td>\n",
              "      <td>0</td>\n",
              "      <td>0</td>\n",
              "      <td>0</td>\n",
              "      <td>1</td>\n",
              "      <td>0</td>\n",
              "      <td>1</td>\n",
              "      <td>0</td>\n",
              "      <td>1</td>\n",
              "      <td>0</td>\n",
              "    </tr>\n",
              "    <tr>\n",
              "      <th>257</th>\n",
              "      <td>36</td>\n",
              "      <td>1</td>\n",
              "      <td>0</td>\n",
              "      <td>0</td>\n",
              "      <td>0</td>\n",
              "      <td>1</td>\n",
              "      <td>0</td>\n",
              "      <td>0</td>\n",
              "      <td>1</td>\n",
              "      <td>0</td>\n",
              "      <td>1</td>\n",
              "      <td>0</td>\n",
              "    </tr>\n",
              "    <tr>\n",
              "      <th>199</th>\n",
              "      <td>76</td>\n",
              "      <td>0</td>\n",
              "      <td>1</td>\n",
              "      <td>0</td>\n",
              "      <td>0</td>\n",
              "      <td>0</td>\n",
              "      <td>1</td>\n",
              "      <td>1</td>\n",
              "      <td>0</td>\n",
              "      <td>1</td>\n",
              "      <td>0</td>\n",
              "      <td>0</td>\n",
              "    </tr>\n",
              "    <tr>\n",
              "      <th>119</th>\n",
              "      <td>46</td>\n",
              "      <td>1</td>\n",
              "      <td>0</td>\n",
              "      <td>0</td>\n",
              "      <td>1</td>\n",
              "      <td>0</td>\n",
              "      <td>0</td>\n",
              "      <td>0</td>\n",
              "      <td>0</td>\n",
              "      <td>0</td>\n",
              "      <td>1</td>\n",
              "      <td>0</td>\n",
              "    </tr>\n",
              "    <tr>\n",
              "      <th>...</th>\n",
              "      <td>...</td>\n",
              "      <td>...</td>\n",
              "      <td>...</td>\n",
              "      <td>...</td>\n",
              "      <td>...</td>\n",
              "      <td>...</td>\n",
              "      <td>...</td>\n",
              "      <td>...</td>\n",
              "      <td>...</td>\n",
              "      <td>...</td>\n",
              "      <td>...</td>\n",
              "      <td>...</td>\n",
              "    </tr>\n",
              "    <tr>\n",
              "      <th>177</th>\n",
              "      <td>68</td>\n",
              "      <td>0</td>\n",
              "      <td>0</td>\n",
              "      <td>0</td>\n",
              "      <td>1</td>\n",
              "      <td>0</td>\n",
              "      <td>0</td>\n",
              "      <td>0</td>\n",
              "      <td>1</td>\n",
              "      <td>0</td>\n",
              "      <td>0</td>\n",
              "      <td>1</td>\n",
              "    </tr>\n",
              "    <tr>\n",
              "      <th>278</th>\n",
              "      <td>39</td>\n",
              "      <td>0</td>\n",
              "      <td>1</td>\n",
              "      <td>0</td>\n",
              "      <td>1</td>\n",
              "      <td>0</td>\n",
              "      <td>0</td>\n",
              "      <td>0</td>\n",
              "      <td>0</td>\n",
              "      <td>0</td>\n",
              "      <td>0</td>\n",
              "      <td>1</td>\n",
              "    </tr>\n",
              "    <tr>\n",
              "      <th>310</th>\n",
              "      <td>84</td>\n",
              "      <td>0</td>\n",
              "      <td>1</td>\n",
              "      <td>0</td>\n",
              "      <td>0</td>\n",
              "      <td>1</td>\n",
              "      <td>0</td>\n",
              "      <td>0</td>\n",
              "      <td>1</td>\n",
              "      <td>1</td>\n",
              "      <td>0</td>\n",
              "      <td>0</td>\n",
              "    </tr>\n",
              "    <tr>\n",
              "      <th>356</th>\n",
              "      <td>49</td>\n",
              "      <td>0</td>\n",
              "      <td>1</td>\n",
              "      <td>0</td>\n",
              "      <td>1</td>\n",
              "      <td>0</td>\n",
              "      <td>0</td>\n",
              "      <td>0</td>\n",
              "      <td>1</td>\n",
              "      <td>0</td>\n",
              "      <td>1</td>\n",
              "      <td>0</td>\n",
              "    </tr>\n",
              "    <tr>\n",
              "      <th>228</th>\n",
              "      <td>40</td>\n",
              "      <td>0</td>\n",
              "      <td>0</td>\n",
              "      <td>1</td>\n",
              "      <td>1</td>\n",
              "      <td>0</td>\n",
              "      <td>0</td>\n",
              "      <td>0</td>\n",
              "      <td>1</td>\n",
              "      <td>1</td>\n",
              "      <td>0</td>\n",
              "      <td>0</td>\n",
              "    </tr>\n",
              "  </tbody>\n",
              "</table>\n",
              "<p>320 rows × 12 columns</p>\n",
              "</div>"
            ],
            "text/plain": [
              "     voter_age  voter_college  ...  voter_urban_Suburban  voter_urban_Urban\n",
              "83          26              0  ...                     0                  0\n",
              "397         36              0  ...                     1                  0\n",
              "257         36              1  ...                     1                  0\n",
              "199         76              0  ...                     0                  0\n",
              "119         46              1  ...                     1                  0\n",
              "..         ...            ...  ...                   ...                ...\n",
              "177         68              0  ...                     0                  1\n",
              "278         39              0  ...                     0                  1\n",
              "310         84              0  ...                     0                  0\n",
              "356         49              0  ...                     1                  0\n",
              "228         40              0  ...                     0                  0\n",
              "\n",
              "[320 rows x 12 columns]"
            ]
          },
          "metadata": {
            "tags": []
          },
          "execution_count": 153
        }
      ]
    },
    {
      "cell_type": "markdown",
      "metadata": {
        "id": "3b07H57623Ao"
      },
      "source": [
        "**Basic Decision Tree:**"
      ]
    },
    {
      "cell_type": "code",
      "metadata": {
        "colab": {
          "base_uri": "https://localhost:8080/"
        },
        "id": "xQO3cxX320Di",
        "outputId": "24d470a1-2202-4013-815d-68d2c1cc4ec3"
      },
      "source": [
        "dt = DecisionTreeClassifier(random_state=4983)\r\n",
        "dt.fit(X_train, y_train)\r\n",
        "dt.score(X_train, y_train)\r\n",
        "predictions = dt.predict(X_test)\r\n",
        "print(confusion_matrix(y_test, predictions))\r\n",
        "print(classification_report(y_test, predictions))\r\n",
        "print(dt.feature_importances_)\r\n",
        "dt.score(X_train, y_train)\r\n",
        "dt.score(X_test, y_test)\r\n",
        "dt.tree_.node_count"
      ],
      "execution_count": 176,
      "outputs": [
        {
          "output_type": "stream",
          "text": [
            "[[19 18]\n",
            " [20 23]]\n",
            "              precision    recall  f1-score   support\n",
            "\n",
            "           0       0.49      0.51      0.50        37\n",
            "           1       0.56      0.53      0.55        43\n",
            "\n",
            "    accuracy                           0.53        80\n",
            "   macro avg       0.52      0.52      0.52        80\n",
            "weighted avg       0.53      0.53      0.53        80\n",
            "\n",
            "[0.43840267 0.07092527 0.07671648 0.02549914 0.11954861 0.02463526\n",
            " 0.00414142 0.02640443 0.04364952 0.09170426 0.03150804 0.0468649 ]\n"
          ],
          "name": "stdout"
        },
        {
          "output_type": "execute_result",
          "data": {
            "text/plain": [
              "255"
            ]
          },
          "metadata": {
            "tags": []
          },
          "execution_count": 176
        }
      ]
    },
    {
      "cell_type": "markdown",
      "metadata": {
        "id": "azj4SVSO2cKp"
      },
      "source": [
        "**Random Forest:**"
      ]
    },
    {
      "cell_type": "code",
      "metadata": {
        "colab": {
          "base_uri": "https://localhost:8080/"
        },
        "id": "8y-cwLYGtQCS",
        "outputId": "3727e3b5-30ad-43ad-824e-bb5bee98e1da"
      },
      "source": [
        "rf = ensemble.RandomForestClassifier(random_state=4983)\r\n",
        "rf.fit(X_train, y_train)\r\n",
        "predictions = rf.predict(X_test)\r\n",
        "print(confusion_matrix(y_test, predictions))\r\n",
        "print(classification_report(y_test, predictions))\r\n",
        "print(rf.feature_importances_)\r\n",
        "rf.score(X_test, y_test)"
      ],
      "execution_count": 155,
      "outputs": [
        {
          "output_type": "stream",
          "text": [
            "[[20 17]\n",
            " [17 26]]\n",
            "              precision    recall  f1-score   support\n",
            "\n",
            "           0       0.54      0.54      0.54        37\n",
            "           1       0.60      0.60      0.60        43\n",
            "\n",
            "    accuracy                           0.57        80\n",
            "   macro avg       0.57      0.57      0.57        80\n",
            "weighted avg       0.57      0.57      0.57        80\n",
            "\n",
            "[0.46550092 0.08195201 0.06047522 0.03705414 0.07718652 0.03024211\n",
            " 0.07819931 0.0223751  0.05159552 0.03936333 0.02505098 0.03100484]\n"
          ],
          "name": "stdout"
        },
        {
          "output_type": "execute_result",
          "data": {
            "text/plain": [
              "0.575"
            ]
          },
          "metadata": {
            "tags": []
          },
          "execution_count": 155
        }
      ]
    },
    {
      "cell_type": "code",
      "metadata": {
        "colab": {
          "base_uri": "https://localhost:8080/"
        },
        "id": "QAWxW49g4QmB",
        "outputId": "df53e039-33a1-4d0b-e9f7-90e855b4a466"
      },
      "source": [
        "ab = ensemble.AdaBoostClassifier(random_state= 4983, learning_rate=1)\r\n",
        "ab.fit(X_train, y_train)\r\n",
        "predictions = ab.predict(X_test)\r\n",
        "print(confusion_matrix(y_test, predictions))\r\n",
        "print(classification_report(y_test, predictions))\r\n",
        "print(ab.feature_importances_)\r\n",
        "ab.score(X_test, y_test)\r\n",
        "ab.score(X_train, y_train)"
      ],
      "execution_count": 161,
      "outputs": [
        {
          "output_type": "stream",
          "text": [
            "[[23 14]\n",
            " [12 31]]\n",
            "              precision    recall  f1-score   support\n",
            "\n",
            "           0       0.66      0.62      0.64        37\n",
            "           1       0.69      0.72      0.70        43\n",
            "\n",
            "    accuracy                           0.68        80\n",
            "   macro avg       0.67      0.67      0.67        80\n",
            "weighted avg       0.67      0.68      0.67        80\n",
            "\n",
            "[0.8  0.02 0.02 0.02 0.02 0.   0.06 0.02 0.   0.02 0.   0.02]\n"
          ],
          "name": "stdout"
        },
        {
          "output_type": "execute_result",
          "data": {
            "text/plain": [
              "0.75625"
            ]
          },
          "metadata": {
            "tags": []
          },
          "execution_count": 161
        }
      ]
    },
    {
      "cell_type": "markdown",
      "metadata": {
        "id": "Z_puplNa5Tuj"
      },
      "source": [
        "**Logistic Regression**"
      ]
    },
    {
      "cell_type": "code",
      "metadata": {
        "colab": {
          "base_uri": "https://localhost:8080/"
        },
        "id": "lRg0Wfiy5zQi",
        "outputId": "a13b60d1-0a17-4baf-c8d2-f7ce0644aae9"
      },
      "source": [
        "X = trimmed_df\r\n",
        "lg = LogisticRegression(random_state=4983)\r\n",
        "lg.fit(X_train, y_train)\r\n",
        "predictions = lg.predict(X_test)\r\n",
        "print(confusion_matrix(y_test, predictions))\r\n",
        "print(classification_report(y_test, predictions))\r\n",
        "lg.score(X_test, y_test)\r\n",
        "\r\n",
        "\r\n",
        "full_model = smf.glm(\"walz_vote ~ voter_age + voter_college + voter_female + voter_hispanic + voter_party_DFL + voter_party_Independent + voter_party_Republican +voter_race_Black + voter_race_White + voter_urban_Rural + voter_urban_Suburban + voter_urban_Urban\", data=df_cat, family = sm.families.Binomial())\r\n",
        "fitted_model = full_model.fit()\r\n",
        "print(fitted_model.summary())"
      ],
      "execution_count": 157,
      "outputs": [
        {
          "output_type": "stream",
          "text": [
            "[[22 15]\n",
            " [ 7 36]]\n",
            "              precision    recall  f1-score   support\n",
            "\n",
            "           0       0.76      0.59      0.67        37\n",
            "           1       0.71      0.84      0.77        43\n",
            "\n",
            "    accuracy                           0.73        80\n",
            "   macro avg       0.73      0.72      0.72        80\n",
            "weighted avg       0.73      0.72      0.72        80\n",
            "\n",
            "                 Generalized Linear Model Regression Results                  \n",
            "==============================================================================\n",
            "Dep. Variable:              walz_vote   No. Observations:                  400\n",
            "Model:                            GLM   Df Residuals:                      389\n",
            "Model Family:                Binomial   Df Model:                           10\n",
            "Link Function:                  logit   Scale:                          1.0000\n",
            "Method:                          IRLS   Log-Likelihood:                -215.47\n",
            "Date:                Fri, 26 Feb 2021   Deviance:                       430.94\n",
            "Time:                        20:17:58   Pearson chi2:                     382.\n",
            "No. Iterations:                     5                                         \n",
            "Covariance Type:            nonrobust                                         \n",
            "===========================================================================================\n",
            "                              coef    std err          z      P>|z|      [0.025      0.975]\n",
            "-------------------------------------------------------------------------------------------\n",
            "Intercept                  -0.1097      0.298     -0.368      0.713      -0.694       0.475\n",
            "voter_age                  -0.0032      0.007     -0.485      0.628      -0.016       0.010\n",
            "voter_college               1.5416      0.275      5.603      0.000       1.002       2.081\n",
            "voter_female                0.3375      0.239      1.410      0.159      -0.132       0.807\n",
            "voter_hispanic             -0.2041      0.475     -0.430      0.667      -1.135       0.727\n",
            "voter_party_DFL             1.2417      0.203      6.132      0.000       0.845       1.639\n",
            "voter_party_Independent    -0.1279      0.200     -0.639      0.523      -0.520       0.264\n",
            "voter_party_Republican     -1.2234      0.204     -6.004      0.000      -1.623      -0.824\n",
            "voter_race_Black            0.0928      0.591      0.157      0.875      -1.065       1.251\n",
            "voter_race_White           -0.1930      0.351     -0.549      0.583      -0.881       0.495\n",
            "voter_urban_Rural          -0.5955      0.207     -2.871      0.004      -1.002      -0.189\n",
            "voter_urban_Suburban        0.0579      0.197      0.294      0.769      -0.328       0.444\n",
            "voter_urban_Urban           0.4280      0.192      2.228      0.026       0.052       0.804\n",
            "===========================================================================================\n"
          ],
          "name": "stdout"
        }
      ]
    },
    {
      "cell_type": "code",
      "metadata": {
        "colab": {
          "base_uri": "https://localhost:8080/"
        },
        "id": "5uBpX68hDtQT",
        "outputId": "5249197c-ec14-4e40-de1e-4c18ec8d9e77"
      },
      "source": [
        "# Model with voter_college, voter_party_DFL, voter_party_Republican, voter_urban_Rural, voter_urban_Urban (taking out voter urban increases accuracy)\r\n",
        "reduced_model = smf.glm(\"walz_vote ~ voter_college + voter_party_DFL + voter_party_Republican + voter_urban_Rural\", data=df_cat, family = sm.families.Binomial())\r\n",
        "fitted_model = reduced_model.fit()\r\n",
        "print(fitted_model.summary())\r\n"
      ],
      "execution_count": 166,
      "outputs": [
        {
          "output_type": "stream",
          "text": [
            "                 Generalized Linear Model Regression Results                  \n",
            "==============================================================================\n",
            "Dep. Variable:              walz_vote   No. Observations:                  400\n",
            "Model:                            GLM   Df Residuals:                      395\n",
            "Model Family:                Binomial   Df Model:                            4\n",
            "Link Function:                  logit   Scale:                          1.0000\n",
            "Method:                          IRLS   Log-Likelihood:                -217.93\n",
            "Date:                Fri, 26 Feb 2021   Deviance:                       435.87\n",
            "Time:                        20:58:52   Pearson chi2:                     381.\n",
            "No. Iterations:                     4                                         \n",
            "Covariance Type:            nonrobust                                         \n",
            "==========================================================================================\n",
            "                             coef    std err          z      P>|z|      [0.025      0.975]\n",
            "------------------------------------------------------------------------------------------\n",
            "Intercept                 -0.1896      0.239     -0.793      0.428      -0.658       0.279\n",
            "voter_college              1.5983      0.273      5.861      0.000       1.064       2.133\n",
            "voter_party_DFL            1.3465      0.300      4.487      0.000       0.758       1.935\n",
            "voter_party_Republican    -1.0628      0.296     -3.591      0.000      -1.643      -0.483\n",
            "voter_urban_Rural         -0.8254      0.273     -3.026      0.002      -1.360      -0.291\n",
            "==========================================================================================\n"
          ],
          "name": "stdout"
        }
      ]
    },
    {
      "cell_type": "code",
      "metadata": {
        "colab": {
          "base_uri": "https://localhost:8080/"
        },
        "id": "hsDeWQcAFTHY",
        "outputId": "e2556035-bbc9-4162-952a-dee95654fc75"
      },
      "source": [
        "predictions = np.where(fitted_model.predict(X_test) > 0.5, 1, 0)\r\n",
        "error = np.sum(np.where(predictions != y_test, 1, 0))/y_test.shape[0]\r\n",
        "print(\"Model Accuracy: \", 1 - error)"
      ],
      "execution_count": 164,
      "outputs": [
        {
          "output_type": "stream",
          "text": [
            "Model Accuracy:  0.775\n"
          ],
          "name": "stdout"
        }
      ]
    }
  ]
}